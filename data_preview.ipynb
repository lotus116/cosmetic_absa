{
 "cells": [
  {
   "cell_type": "code",
   "execution_count": null,
   "id": "b3d42229",
   "metadata": {},
   "outputs": [],
   "source": [
    "import pandas as pd\n",
    "import numpy as np"
   ]
  },
  {
   "cell_type": "markdown",
   "id": "c9ffe5f1",
   "metadata": {},
   "source": [
    "### 训练集 评论 \n",
    "data/Train/Train_reviews.csv\n",
    "字段： id, Reviews\n",
    "共2237条评论,无空值,部分重复评论已去除，最长评论长度69"
   ]
  },
  {
   "cell_type": "code",
   "execution_count": 26,
   "id": "f434835a",
   "metadata": {},
   "outputs": [
    {
     "name": "stdout",
     "output_type": "stream",
     "text": [
      "   id                          Reviews\n",
      "0   1                        很好，超值，很好用\n",
      "1   2                 很好，遮暇功能差一些，总体还不错\n",
      "2   3          包装太随便了，连个包装盒都没有，第一感觉很不好\n",
      "3   4      宝贝收到了，产品非常的不好，简直就是个垃圾，我都扔了。\n",
      "4   5  活动价很是划算，买一送一共60片才花八十五块，天天用都不心疼啊\n",
      "<class 'pandas.core.frame.DataFrame'>\n",
      "RangeIndex: 3229 entries, 0 to 3228\n",
      "Data columns (total 2 columns):\n",
      " #   Column   Non-Null Count  Dtype \n",
      "---  ------   --------------  ----- \n",
      " 0   id       3229 non-null   int64 \n",
      " 1   Reviews  3229 non-null   object\n",
      "dtypes: int64(1), object(1)\n",
      "memory usage: 50.6+ KB\n",
      "None\n",
      "\n",
      "空值情况：\n",
      " id         0\n",
      "Reviews    0\n",
      "dtype: int64\n"
     ]
    }
   ],
   "source": [
    "Train_reviews = pd.read_csv('data/Train/Train_reviews.csv')\n",
    "print(Train_reviews.head())\n",
    "print(Train_reviews.info())\n",
    "print('\\n空值情况：\\n', Train_reviews.isnull().sum())"
   ]
  },
  {
   "cell_type": "code",
   "execution_count": 29,
   "id": "ab0ffb92",
   "metadata": {},
   "outputs": [],
   "source": [
    "#找出Train_reviews中重复的评论\n",
    "# Train_reviews[Train_reviews.duplicated(['Reviews'], keep=False)].sort_values(by='Reviews')\n",
    "#去重\n",
    "Train_reviews = Train_reviews.drop_duplicates(['Reviews'])"
   ]
  },
  {
   "cell_type": "code",
   "execution_count": 30,
   "id": "12015ec6",
   "metadata": {},
   "outputs": [
    {
     "name": "stdout",
     "output_type": "stream",
     "text": [
      "最长评论长度： 69\n"
     ]
    }
   ],
   "source": [
    "#最长评论长度\n",
    "max_length = Train_reviews['Reviews'].str.len().max()\n",
    "print('最长评论长度：', max_length)\n"
   ]
  },
  {
   "cell_type": "markdown",
   "id": "0f03683d",
   "metadata": {},
   "source": [
    "### 训练集 标签\n",
    "data/Train/Train_labels.csv\n",
    "6633条数据，无空值\n",
    "字段：\n",
    "id,AspectTerms,A_start,A_end,OpinionTerms,O_start,O_end,Categories,Polarities\n",
    "（1）评论ID（ID)：ID是每一条用户评论的唯一标识。\n",
    "（2）用户评论（Reviews）：用户对商品的评论原文。\n",
    "（3）属性特征词（AspectTerms）：评论原文中的商品属性特征词。例如“价格很便宜”中的“价格”。该字段结果须与评论原文中的表述保持一致。\n",
    "（4）观点词（OpinionTerms）：评论原文中，用户对商品某一属性所持有的观点。例如“价格很便宜”中的“很便宜”。该字段结果须与评论原文中的表述保持一致。\n",
    "（5）观点极性（Polarity）：用户对某一属性特征的观点所蕴含的情感极性，即负面、中性或正面三类。\n",
    "（6）属性种类（Category）：相似或同类的属性特征词构成的属性种类。例如“快递”和“物流”两个属性特征词都可归入“物流”这一属性种类。我们规定了属性种类集合（详见训练数据README.md）,该字段结果应属于该集合。"
   ]
  },
  {
   "cell_type": "code",
   "id": "58ea1db7",
   "metadata": {
    "ExecuteTime": {
     "end_time": "2025-09-29T11:49:17.352115Z",
     "start_time": "2025-09-29T11:49:17.147060Z"
    }
   },
   "source": [
    "Train_labels = pd.read_csv('data/Train/Train_labels.csv')\n",
    "Train_labels.head()"
   ],
   "outputs": [
    {
     "ename": "NameError",
     "evalue": "name 'pd' is not defined",
     "output_type": "error",
     "traceback": [
      "\u001B[1;31m---------------------------------------------------------------------------\u001B[0m",
      "\u001B[1;31mNameError\u001B[0m                                 Traceback (most recent call last)",
      "Cell \u001B[1;32mIn[1], line 1\u001B[0m\n\u001B[1;32m----> 1\u001B[0m Train_labels \u001B[38;5;241m=\u001B[39m \u001B[43mpd\u001B[49m\u001B[38;5;241m.\u001B[39mread_csv(\u001B[38;5;124m'\u001B[39m\u001B[38;5;124mdata/Train/Train_labels.csv\u001B[39m\u001B[38;5;124m'\u001B[39m)\n\u001B[0;32m      2\u001B[0m Train_labels\u001B[38;5;241m.\u001B[39mhead()\n",
      "\u001B[1;31mNameError\u001B[0m: name 'pd' is not defined"
     ]
    }
   ],
   "execution_count": 1
  },
  {
   "cell_type": "code",
   "execution_count": 36,
   "id": "7084b12d",
   "metadata": {},
   "outputs": [
    {
     "name": "stdout",
     "output_type": "stream",
     "text": [
      "<class 'pandas.core.frame.DataFrame'>\n",
      "RangeIndex: 6633 entries, 0 to 6632\n",
      "Data columns (total 9 columns):\n",
      " #   Column        Non-Null Count  Dtype \n",
      "---  ------        --------------  ----- \n",
      " 0   id            6633 non-null   int64 \n",
      " 1   AspectTerms   6633 non-null   object\n",
      " 2   A_start       6633 non-null   object\n",
      " 3   A_end         6633 non-null   object\n",
      " 4   OpinionTerms  6633 non-null   object\n",
      " 5   O_start       6633 non-null   object\n",
      " 6   O_end         6633 non-null   object\n",
      " 7   Categories    6633 non-null   object\n",
      " 8   Polarities    6633 non-null   object\n",
      "dtypes: int64(1), object(8)\n",
      "memory usage: 466.5+ KB\n",
      "None\n",
      "\n",
      "空值情况：\n",
      " id              0\n",
      "AspectTerms     0\n",
      "A_start         0\n",
      "A_end           0\n",
      "OpinionTerms    0\n",
      "O_start         0\n",
      "O_end           0\n",
      "Categories      0\n",
      "Polarities      0\n",
      "dtype: int64\n",
      "\n",
      "重复值情况：\n",
      " 1\n"
     ]
    }
   ],
   "source": [
    "print(Train_labels.info())\n",
    "print('\\n空值情况：\\n', Train_labels.isnull().sum())\n",
    "print('\\n重复值情况：\\n', Train_labels.duplicated().sum())"
   ]
  },
  {
   "cell_type": "code",
   "execution_count": null,
   "id": "4862c531",
   "metadata": {},
   "outputs": [],
   "source": []
  }
 ],
 "metadata": {
  "kernelspec": {
   "display_name": "DeepLearning",
   "language": "python",
   "name": "python3"
  },
  "language_info": {
   "codemirror_mode": {
    "name": "ipython",
    "version": 3
   },
   "file_extension": ".py",
   "mimetype": "text/x-python",
   "name": "python",
   "nbconvert_exporter": "python",
   "pygments_lexer": "ipython3",
   "version": "3.10.18"
  }
 },
 "nbformat": 4,
 "nbformat_minor": 5
}
